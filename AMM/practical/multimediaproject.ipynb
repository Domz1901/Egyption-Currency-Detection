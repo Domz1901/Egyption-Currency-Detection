{
 "cells": [
  {
   "cell_type": "code",
   "execution_count": 22,
   "metadata": {},
   "outputs": [
    {
     "name": "stdout",
     "output_type": "stream",
     "text": [
      "Keypoints 1ST Image: 453\n",
      "Keypoints 2ND Image: 3174\n",
      "GOOD Matches: 1\n",
      "How good it's the match:  0.22075055187637968 %\n",
      "Keypoints 1ST Image: 478\n",
      "Keypoints 2ND Image: 3174\n",
      "GOOD Matches: 0\n",
      "How good it's the match:  0.0 %\n",
      "Keypoints 1ST Image: 6310\n",
      "Keypoints 2ND Image: 3174\n",
      "GOOD Matches: 114\n",
      "How good it's the match:  3.5916824196597354 %\n",
      "Keypoints 1ST Image: 4116\n",
      "Keypoints 2ND Image: 3174\n",
      "GOOD Matches: 6\n",
      "How good it's the match:  0.1890359168241966 %\n",
      "Keypoints 1ST Image: 782\n",
      "Keypoints 2ND Image: 3174\n",
      "GOOD Matches: 0\n",
      "How good it's the match:  0.0 %\n",
      "Keypoints 1ST Image: 3136\n",
      "Keypoints 2ND Image: 3174\n",
      "GOOD Matches: 12\n",
      "How good it's the match:  0.3826530612244898 %\n",
      "Keypoints 1ST Image: 261\n",
      "Keypoints 2ND Image: 3174\n",
      "GOOD Matches: 0\n",
      "How good it's the match:  0.0 %\n",
      "Keypoints 1ST Image: 479\n",
      "Keypoints 2ND Image: 3174\n",
      "GOOD Matches: 0\n",
      "How good it's the match:  0.0 %\n",
      "Keypoints 1ST Image: 5032\n",
      "Keypoints 2ND Image: 3174\n",
      "GOOD Matches: 1\n",
      "How good it's the match:  0.0315059861373661 %\n",
      "Keypoints 1ST Image: 453\n",
      "Keypoints 2ND Image: 3174\n",
      "GOOD Matches: 2\n",
      "How good it's the match:  0.44150110375275936 %\n",
      "Keypoints 1ST Image: 450\n",
      "Keypoints 2ND Image: 3174\n",
      "GOOD Matches: 1\n",
      "How good it's the match:  0.2222222222222222 %\n",
      "Keypoints 1ST Image: 540\n",
      "Keypoints 2ND Image: 3174\n",
      "GOOD Matches: 0\n",
      "How good it's the match:  0.0 %\n"
     ]
    }
   ],
   "source": [
    "import cv2 as cv\n",
    "a1=['Egypt_5_Pound_2009_obverse.jpg','Egypt_10_Pound_2009_obverse.jpg','Egypt_20_Pound_2009_obverse.jpg','Egypt_50_Pound_2009_obverse.jpg','Egypt_100_Pound_2009_obverse.jpg','Egypt_200_Pound_2009_obverse.jpg','Egypt_5_Pound_2009_reverse.png','Egypt_10_Pound_2009_reverse.jpg','Egypt_20_Pound_2009_reverse.jpg','Egypt_50_Pound_2009_reverse.jpg','Egypt_100_Pound_2009_reverse.jpg','Egypt_200_Pound_2009_reverse.jpg']\n",
    "a2=[]\n",
    "test='e20.jpeg'\n",
    "\n",
    "for i in range(0,12,1):\n",
    "    img1 = cv.imread(a1[i])\n",
    "    gray1= cv.cvtColor(img1,cv.COLOR_BGR2GRAY)\n",
    "    img2 = cv.imread(test)\n",
    "    gray2= cv.cvtColor(img2,cv.COLOR_BGR2GRAY)\n",
    "\n",
    "    sift = cv.SIFT_create()\n",
    "\n",
    "    kp1, des1 = sift.detectAndCompute(gray1,None)\n",
    "    kp2, des2 = sift.detectAndCompute(gray2,None)\n",
    "\n",
    "    img1=cv.drawKeypoints(gray1,kp1,img1)\n",
    "    img1=cv.drawKeypoints(gray1,kp1,img1,flags=cv.DRAW_MATCHES_FLAGS_DRAW_RICH_KEYPOINTS)\n",
    "    img2=cv.drawKeypoints(gray2,kp2,img2)\n",
    "    img2=cv.drawKeypoints(gray2,kp2,img2,flags=cv.DRAW_MATCHES_FLAGS_DRAW_RICH_KEYPOINTS)\n",
    "\n",
    "\n",
    "    cv.imshow(\"image\",img1)\n",
    "    cv.waitKey(0)\n",
    "    cv.destroyAllWindows()\n",
    "    cv.imshow(\"image\",img2)\n",
    "    cv.waitKey(0)\n",
    "    cv.destroyAllWindows()\n",
    "\n",
    "\n",
    "\n",
    "    index_params = dict(algorithm=0, trees=5)\n",
    "    search_params = dict()\n",
    "    flann = cv.FlannBasedMatcher(index_params, search_params)\n",
    "\n",
    "    matches = flann.knnMatch(des1, des2, k=2)\n",
    "\n",
    "    good_points = []\n",
    "    for m, n in matches:\n",
    "        if m.distance < 0.6*n.distance:\n",
    "            good_points.append(m)\n",
    "\n",
    "\n",
    "\n",
    "\n",
    "\n",
    "    number_keypoints = 0\n",
    "    if len(kp1) <= len(kp2):\n",
    "        number_keypoints = len(kp1)\n",
    "    else:\n",
    "        number_keypoints = len(kp2)\n",
    "    print(\"Keypoints 1ST Image: \" + str(len(kp1)))\n",
    "    print(\"Keypoints 2ND Image: \" + str(len(kp2)))\n",
    "    print(\"GOOD Matches:\", len(good_points))\n",
    "    x=len(good_points) / number_keypoints * 100\n",
    "    a2.append(x)\n",
    "    print(\"How good it's the match: \", x, \"%\")\n"
   ]
  },
  {
   "cell_type": "code",
   "execution_count": 23,
   "metadata": {},
   "outputs": [
    {
     "name": "stdout",
     "output_type": "stream",
     "text": [
      "[0.22075055187637968, 0.0, 3.5916824196597354, 0.1890359168241966, 0.0, 0.3826530612244898, 0.0, 0.0, 0.0315059861373661, 0.44150110375275936, 0.2222222222222222, 0.0]\n"
     ]
    }
   ],
   "source": [
    "print(a2)"
   ]
  },
  {
   "cell_type": "code",
   "execution_count": 24,
   "metadata": {},
   "outputs": [
    {
     "name": "stdout",
     "output_type": "stream",
     "text": [
      "image is 20 pound obverse\n"
     ]
    }
   ],
   "source": [
    "if a2[0]==max(a2):\n",
    "    print(\"image is 5 pound obverse\" )\n",
    "elif a2[1]==max(a2):\n",
    "     print(\"image is 10 pound obverse\" )\n",
    "elif a2[2]==max(a2):\n",
    "     print(\"image is 20 pound obverse\" )        \n",
    "elif a2[3]==max(a2):\n",
    "     print(\"image is 50 pound obverse\" )\n",
    "elif a2[4]==max(a2):\n",
    "     print(\"image is 100 pound obverse\" )  \n",
    "elif a2[5]==max(a2):\n",
    "     print(\"image is 200 pound obverse\" ) \n",
    "elif a2[6]==max(a2):\n",
    "     print(\"image is 200 pound obverse\" ) \n",
    "elif a2[7]==max(a2):\n",
    "     print(\"image is 200 pound obverse\" ) \n",
    "elif a2[8]==max(a2):\n",
    "     print(\"image is 200 pound obverse\" ) \n",
    "elif a2[9]==max(a2):\n",
    "     print(\"image is 200 pound obverse\" ) \n",
    "elif a2[10]==max(a2):\n",
    "     print(\"image is 200 pound obverse\" ) \n",
    "elif a2[11]==max(a2):\n",
    "     print(\"image is 200 pound obverse\" ) "
   ]
  },
  {
   "cell_type": "code",
   "execution_count": null,
   "metadata": {},
   "outputs": [],
   "source": []
  }
 ],
 "metadata": {
  "kernelspec": {
   "display_name": "Python 3",
   "language": "python",
   "name": "python3"
  },
  "language_info": {
   "codemirror_mode": {
    "name": "ipython",
    "version": 3
   },
   "file_extension": ".py",
   "mimetype": "text/x-python",
   "name": "python",
   "nbconvert_exporter": "python",
   "pygments_lexer": "ipython3",
   "version": "3.8.3"
  }
 },
 "nbformat": 4,
 "nbformat_minor": 4
}
